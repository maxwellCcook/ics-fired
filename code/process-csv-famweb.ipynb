{
 "cells": [
  {
   "cell_type": "code",
   "execution_count": 1,
   "id": "c91d9732-2af6-4be3-b2c8-25bf1cc6aa9a",
   "metadata": {},
   "outputs": [
    {
     "data": {
      "text/plain": [
       "['/Users/max/Library/CloudStorage/OneDrive-Personal/mcook/ics209-plus-fired/data/tabular/raw/famweb/sit209_2023/famwebTable_8_SIT209_HISTORY_SIT209_LOOKUP_CODES.csv',\n",
       " '/Users/max/Library/CloudStorage/OneDrive-Personal/mcook/ics209-plus-fired/data/tabular/raw/famweb/sit209_2023/famwebTable_9_SIT209_HISTORY_SIT209_FIRE_STATS.csv',\n",
       " '/Users/max/Library/CloudStorage/OneDrive-Personal/mcook/ics209-plus-fired/data/tabular/raw/famweb/sit209_2023/famwebTable_7_SIT209_HISTORY_OFFICE_VALIDATIONS.csv',\n",
       " '/Users/max/Library/CloudStorage/OneDrive-Personal/mcook/ics209-plus-fired/data/tabular/raw/famweb/sit209_2023/famwebTable_25_SIT209_HISTORY_INCIDENT_209_CSLTY_ILLNESSES.csv',\n",
       " '/Users/max/Library/CloudStorage/OneDrive-Personal/mcook/ics209-plus-fired/data/tabular/raw/famweb/sit209_2023/famwebTable_17_SIT209_HISTORY_INCIDENT_209_REPORTS_AUTOSIT.csv',\n",
       " '/Users/max/Library/CloudStorage/OneDrive-Personal/mcook/ics209-plus-fired/data/tabular/raw/famweb/sit209_2023/famwebTable_26_SIT209_HISTORY_INCIDENT_209_LIFE_SAFETY_MGMTS.csv',\n",
       " '/Users/max/Library/CloudStorage/OneDrive-Personal/mcook/ics209-plus-fired/data/tabular/raw/famweb/sit209_2023/famwebTable_22_SIT209_HISTORY_DISPATCH_OFFICE_PROFILES.csv',\n",
       " '/Users/max/Library/CloudStorage/OneDrive-Personal/mcook/ics209-plus-fired/data/tabular/raw/famweb/sit209_2023/famwebTable_13_SIT209_HISTORY_SIT_FIRE_STAT_DAILY_SUMMARIES.csv',\n",
       " '/Users/max/Library/CloudStorage/OneDrive-Personal/mcook/ics209-plus-fired/data/tabular/raw/famweb/sit209_2023/famwebTable_5_SIT209_HISTORY_DAILY_DISPATCHES.csv',\n",
       " '/Users/max/Library/CloudStorage/OneDrive-Personal/mcook/ics209-plus-fired/data/tabular/raw/famweb/sit209_2023/famwebTable_16_SIT209_HISTORY_SPECIAL_INTEREST_AREAS.csv',\n",
       " '/Users/max/Library/CloudStorage/OneDrive-Personal/mcook/ics209-plus-fired/data/tabular/raw/famweb/sit209_2023/famwebTable_20_SIT209_HISTORY_SIT209_LOOKUP_CODE_ASSOCS.csv',\n",
       " '/Users/max/Library/CloudStorage/OneDrive-Personal/mcook/ics209-plus-fired/data/tabular/raw/famweb/sit209_2023/famwebTable_21_SIT209_HISTORY_UOM_CONVERSIONS.csv',\n",
       " '/Users/max/Library/CloudStorage/OneDrive-Personal/mcook/ics209-plus-fired/data/tabular/raw/famweb/sit209_2023/famwebTable_14_SIT209_HISTORY_SIT_FIRE_STAT_YTD_SUMMARIES.csv',\n",
       " '/Users/max/Library/CloudStorage/OneDrive-Personal/mcook/ics209-plus-fired/data/tabular/raw/famweb/sit209_2023/famwebTable_19_SIT209_HISTORY_INCIDENTS.csv',\n",
       " '/Users/max/Library/CloudStorage/OneDrive-Personal/mcook/ics209-plus-fired/data/tabular/raw/famweb/sit209_2023/famwebTable_10_SIT209_HISTORY_SIT209_FIRE_STATS_CATEGORIES.csv',\n",
       " '/Users/max/Library/CloudStorage/OneDrive-Personal/mcook/ics209-plus-fired/data/tabular/raw/famweb/sit209_2023/famwebTable_28_SIT209_HISTORY_INCIDENT_209_STRATEGIES.csv',\n",
       " '/Users/max/Library/CloudStorage/OneDrive-Personal/mcook/ics209-plus-fired/data/tabular/raw/famweb/sit209_2023/famwebTable_18_SIT209_HISTORY_INCIDENT_209_REPORTS.csv',\n",
       " '/Users/max/Library/CloudStorage/OneDrive-Personal/mcook/ics209-plus-fired/data/tabular/raw/famweb/sit209_2023/famwebTable_15_SIT209_HISTORY_EXTERNAL_USERS.csv',\n",
       " '/Users/max/Library/CloudStorage/OneDrive-Personal/mcook/ics209-plus-fired/data/tabular/raw/famweb/sit209_2023/famwebTable_12_SIT209_HISTORY_IMSR_NFM_INCIDENTS.csv',\n",
       " '/Users/max/Library/CloudStorage/OneDrive-Personal/mcook/ics209-plus-fired/data/tabular/raw/famweb/sit209_2023/famwebTable_6_SIT209_HISTORY_DISPATCH_OFFICE_NWCG_UNITS.csv',\n",
       " '/Users/max/Library/CloudStorage/OneDrive-Personal/mcook/ics209-plus-fired/data/tabular/raw/famweb/sit209_2023/famwebTable_29_SIT209_HISTORY_INC_209_REP_OWNSHP_OVERLAYS.csv',\n",
       " '/Users/max/Library/CloudStorage/OneDrive-Personal/mcook/ics209-plus-fired/data/tabular/raw/famweb/sit209_2023/famwebTable_1_COMMONDATA_HISTORY_NWCG_AGENCIES.csv',\n",
       " '/Users/max/Library/CloudStorage/OneDrive-Personal/mcook/ics209-plus-fired/data/tabular/raw/famweb/sit209_2023/famwebTable_4_SIT209_HISTORY_DISPATCH_OFFICES.csv',\n",
       " '/Users/max/Library/CloudStorage/OneDrive-Personal/mcook/ics209-plus-fired/data/tabular/raw/famweb/sit209_2023/famwebTable_27_SIT209_HISTORY_INCIDENT_209_RES_UTILIZATIONS.csv',\n",
       " '/Users/max/Library/CloudStorage/OneDrive-Personal/mcook/ics209-plus-fired/data/tabular/raw/famweb/sit209_2023/famwebTable_24_SIT209_HISTORY_INCIDENT_209_AFFECTED_STRUCTS.csv',\n",
       " '/Users/max/Library/CloudStorage/OneDrive-Personal/mcook/ics209-plus-fired/data/tabular/raw/famweb/sit209_2023/famwebTable_2_COMMONDATA_HISTORY_NWCG_UNITS.csv',\n",
       " '/Users/max/Library/CloudStorage/OneDrive-Personal/mcook/ics209-plus-fired/data/tabular/raw/famweb/sit209_2023/famwebTable_11_SIT209_HISTORY_PLANNED_IGNITION_REPORTS.csv',\n",
       " '/Users/max/Library/CloudStorage/OneDrive-Personal/mcook/ics209-plus-fired/data/tabular/raw/famweb/sit209_2023/famwebTable_30_SIT209_HISTORY_INCIDENT_COMPLEX_ASSOCS.csv',\n",
       " '/Users/max/Library/CloudStorage/OneDrive-Personal/mcook/ics209-plus-fired/data/tabular/raw/famweb/sit209_2023/famwebTable_3_SIT209_HISTORY_GEOGRAPHIC_AREAS.csv']"
      ]
     },
     "execution_count": 1,
     "metadata": {},
     "output_type": "execute_result"
    }
   ],
   "source": [
    "\"\"\"\n",
    "Process the FAMWEB csv files\n",
    "\"\"\"\n",
    "\n",
    "import os, glob\n",
    "import pandas as pd\n",
    "\n",
    "def list_files(path, ext):\n",
    "    return glob.glob(os.path.join(path, '**', '*{}'.format(ext)), recursive=True)\n",
    "\n",
    "maindir = '/Users/max/Library/CloudStorage/OneDrive-Personal/mcook/ics209-plus-fired/'\n",
    "\n",
    "csvs = list_files(os.path.join(maindir,'data/tabular/raw/famweb/sit209_2023/'), '*.csv')\n",
    "csvs"
   ]
  },
  {
   "cell_type": "code",
   "execution_count": 2,
   "id": "037701a9-499a-409a-8d79-68121d9e8104",
   "metadata": {},
   "outputs": [
    {
     "name": "stdout",
     "output_type": "stream",
     "text": [
      "Renamed: /Users/max/Library/CloudStorage/OneDrive-Personal/mcook/ics209-plus-fired/data/tabular/raw/famweb/sit209_2023/famwebTable_8_SIT209_HISTORY_SIT209_LOOKUP_CODES.csv to /Users/max/Library/CloudStorage/OneDrive-Personal/mcook/ics209-plus-fired/data/tabular/raw/famweb/sit209_2023/8_SIT209_HISTORY_SIT209_LOOKUP_CODES.csv\n",
      "Renamed: /Users/max/Library/CloudStorage/OneDrive-Personal/mcook/ics209-plus-fired/data/tabular/raw/famweb/sit209_2023/famwebTable_9_SIT209_HISTORY_SIT209_FIRE_STATS.csv to /Users/max/Library/CloudStorage/OneDrive-Personal/mcook/ics209-plus-fired/data/tabular/raw/famweb/sit209_2023/9_SIT209_HISTORY_SIT209_FIRE_STATS.csv\n",
      "Renamed: /Users/max/Library/CloudStorage/OneDrive-Personal/mcook/ics209-plus-fired/data/tabular/raw/famweb/sit209_2023/famwebTable_7_SIT209_HISTORY_OFFICE_VALIDATIONS.csv to /Users/max/Library/CloudStorage/OneDrive-Personal/mcook/ics209-plus-fired/data/tabular/raw/famweb/sit209_2023/7_SIT209_HISTORY_OFFICE_VALIDATIONS.csv\n",
      "Renamed: /Users/max/Library/CloudStorage/OneDrive-Personal/mcook/ics209-plus-fired/data/tabular/raw/famweb/sit209_2023/famwebTable_25_SIT209_HISTORY_INCIDENT_209_CSLTY_ILLNESSES.csv to /Users/max/Library/CloudStorage/OneDrive-Personal/mcook/ics209-plus-fired/data/tabular/raw/famweb/sit209_2023/25_SIT209_HISTORY_INCIDENT_209_CSLTY_ILLNESSES.csv\n",
      "Renamed: /Users/max/Library/CloudStorage/OneDrive-Personal/mcook/ics209-plus-fired/data/tabular/raw/famweb/sit209_2023/famwebTable_17_SIT209_HISTORY_INCIDENT_209_REPORTS_AUTOSIT.csv to /Users/max/Library/CloudStorage/OneDrive-Personal/mcook/ics209-plus-fired/data/tabular/raw/famweb/sit209_2023/17_SIT209_HISTORY_INCIDENT_209_REPORTS_AUTOSIT.csv\n",
      "Renamed: /Users/max/Library/CloudStorage/OneDrive-Personal/mcook/ics209-plus-fired/data/tabular/raw/famweb/sit209_2023/famwebTable_26_SIT209_HISTORY_INCIDENT_209_LIFE_SAFETY_MGMTS.csv to /Users/max/Library/CloudStorage/OneDrive-Personal/mcook/ics209-plus-fired/data/tabular/raw/famweb/sit209_2023/26_SIT209_HISTORY_INCIDENT_209_LIFE_SAFETY_MGMTS.csv\n",
      "Renamed: /Users/max/Library/CloudStorage/OneDrive-Personal/mcook/ics209-plus-fired/data/tabular/raw/famweb/sit209_2023/famwebTable_22_SIT209_HISTORY_DISPATCH_OFFICE_PROFILES.csv to /Users/max/Library/CloudStorage/OneDrive-Personal/mcook/ics209-plus-fired/data/tabular/raw/famweb/sit209_2023/22_SIT209_HISTORY_DISPATCH_OFFICE_PROFILES.csv\n",
      "Renamed: /Users/max/Library/CloudStorage/OneDrive-Personal/mcook/ics209-plus-fired/data/tabular/raw/famweb/sit209_2023/famwebTable_13_SIT209_HISTORY_SIT_FIRE_STAT_DAILY_SUMMARIES.csv to /Users/max/Library/CloudStorage/OneDrive-Personal/mcook/ics209-plus-fired/data/tabular/raw/famweb/sit209_2023/13_SIT209_HISTORY_SIT_FIRE_STAT_DAILY_SUMMARIES.csv\n",
      "Renamed: /Users/max/Library/CloudStorage/OneDrive-Personal/mcook/ics209-plus-fired/data/tabular/raw/famweb/sit209_2023/famwebTable_5_SIT209_HISTORY_DAILY_DISPATCHES.csv to /Users/max/Library/CloudStorage/OneDrive-Personal/mcook/ics209-plus-fired/data/tabular/raw/famweb/sit209_2023/5_SIT209_HISTORY_DAILY_DISPATCHES.csv\n",
      "Renamed: /Users/max/Library/CloudStorage/OneDrive-Personal/mcook/ics209-plus-fired/data/tabular/raw/famweb/sit209_2023/famwebTable_16_SIT209_HISTORY_SPECIAL_INTEREST_AREAS.csv to /Users/max/Library/CloudStorage/OneDrive-Personal/mcook/ics209-plus-fired/data/tabular/raw/famweb/sit209_2023/16_SIT209_HISTORY_SPECIAL_INTEREST_AREAS.csv\n",
      "Renamed: /Users/max/Library/CloudStorage/OneDrive-Personal/mcook/ics209-plus-fired/data/tabular/raw/famweb/sit209_2023/famwebTable_20_SIT209_HISTORY_SIT209_LOOKUP_CODE_ASSOCS.csv to /Users/max/Library/CloudStorage/OneDrive-Personal/mcook/ics209-plus-fired/data/tabular/raw/famweb/sit209_2023/20_SIT209_HISTORY_SIT209_LOOKUP_CODE_ASSOCS.csv\n",
      "Renamed: /Users/max/Library/CloudStorage/OneDrive-Personal/mcook/ics209-plus-fired/data/tabular/raw/famweb/sit209_2023/famwebTable_21_SIT209_HISTORY_UOM_CONVERSIONS.csv to /Users/max/Library/CloudStorage/OneDrive-Personal/mcook/ics209-plus-fired/data/tabular/raw/famweb/sit209_2023/21_SIT209_HISTORY_UOM_CONVERSIONS.csv\n",
      "Renamed: /Users/max/Library/CloudStorage/OneDrive-Personal/mcook/ics209-plus-fired/data/tabular/raw/famweb/sit209_2023/famwebTable_14_SIT209_HISTORY_SIT_FIRE_STAT_YTD_SUMMARIES.csv to /Users/max/Library/CloudStorage/OneDrive-Personal/mcook/ics209-plus-fired/data/tabular/raw/famweb/sit209_2023/14_SIT209_HISTORY_SIT_FIRE_STAT_YTD_SUMMARIES.csv\n",
      "Renamed: /Users/max/Library/CloudStorage/OneDrive-Personal/mcook/ics209-plus-fired/data/tabular/raw/famweb/sit209_2023/famwebTable_19_SIT209_HISTORY_INCIDENTS.csv to /Users/max/Library/CloudStorage/OneDrive-Personal/mcook/ics209-plus-fired/data/tabular/raw/famweb/sit209_2023/19_SIT209_HISTORY_INCIDENTS.csv\n",
      "Renamed: /Users/max/Library/CloudStorage/OneDrive-Personal/mcook/ics209-plus-fired/data/tabular/raw/famweb/sit209_2023/famwebTable_10_SIT209_HISTORY_SIT209_FIRE_STATS_CATEGORIES.csv to /Users/max/Library/CloudStorage/OneDrive-Personal/mcook/ics209-plus-fired/data/tabular/raw/famweb/sit209_2023/10_SIT209_HISTORY_SIT209_FIRE_STATS_CATEGORIES.csv\n",
      "Renamed: /Users/max/Library/CloudStorage/OneDrive-Personal/mcook/ics209-plus-fired/data/tabular/raw/famweb/sit209_2023/famwebTable_28_SIT209_HISTORY_INCIDENT_209_STRATEGIES.csv to /Users/max/Library/CloudStorage/OneDrive-Personal/mcook/ics209-plus-fired/data/tabular/raw/famweb/sit209_2023/28_SIT209_HISTORY_INCIDENT_209_STRATEGIES.csv\n",
      "Renamed: /Users/max/Library/CloudStorage/OneDrive-Personal/mcook/ics209-plus-fired/data/tabular/raw/famweb/sit209_2023/famwebTable_18_SIT209_HISTORY_INCIDENT_209_REPORTS.csv to /Users/max/Library/CloudStorage/OneDrive-Personal/mcook/ics209-plus-fired/data/tabular/raw/famweb/sit209_2023/18_SIT209_HISTORY_INCIDENT_209_REPORTS.csv\n",
      "Renamed: /Users/max/Library/CloudStorage/OneDrive-Personal/mcook/ics209-plus-fired/data/tabular/raw/famweb/sit209_2023/famwebTable_15_SIT209_HISTORY_EXTERNAL_USERS.csv to /Users/max/Library/CloudStorage/OneDrive-Personal/mcook/ics209-plus-fired/data/tabular/raw/famweb/sit209_2023/15_SIT209_HISTORY_EXTERNAL_USERS.csv\n",
      "Renamed: /Users/max/Library/CloudStorage/OneDrive-Personal/mcook/ics209-plus-fired/data/tabular/raw/famweb/sit209_2023/famwebTable_12_SIT209_HISTORY_IMSR_NFM_INCIDENTS.csv to /Users/max/Library/CloudStorage/OneDrive-Personal/mcook/ics209-plus-fired/data/tabular/raw/famweb/sit209_2023/12_SIT209_HISTORY_IMSR_NFM_INCIDENTS.csv\n",
      "Renamed: /Users/max/Library/CloudStorage/OneDrive-Personal/mcook/ics209-plus-fired/data/tabular/raw/famweb/sit209_2023/famwebTable_6_SIT209_HISTORY_DISPATCH_OFFICE_NWCG_UNITS.csv to /Users/max/Library/CloudStorage/OneDrive-Personal/mcook/ics209-plus-fired/data/tabular/raw/famweb/sit209_2023/6_SIT209_HISTORY_DISPATCH_OFFICE_NWCG_UNITS.csv\n",
      "Renamed: /Users/max/Library/CloudStorage/OneDrive-Personal/mcook/ics209-plus-fired/data/tabular/raw/famweb/sit209_2023/famwebTable_29_SIT209_HISTORY_INC_209_REP_OWNSHP_OVERLAYS.csv to /Users/max/Library/CloudStorage/OneDrive-Personal/mcook/ics209-plus-fired/data/tabular/raw/famweb/sit209_2023/29_SIT209_HISTORY_INC_209_REP_OWNSHP_OVERLAYS.csv\n",
      "Renamed: /Users/max/Library/CloudStorage/OneDrive-Personal/mcook/ics209-plus-fired/data/tabular/raw/famweb/sit209_2023/famwebTable_1_COMMONDATA_HISTORY_NWCG_AGENCIES.csv to /Users/max/Library/CloudStorage/OneDrive-Personal/mcook/ics209-plus-fired/data/tabular/raw/famweb/sit209_2023/1_COMMONDATA_HISTORY_NWCG_AGENCIES.csv\n",
      "Renamed: /Users/max/Library/CloudStorage/OneDrive-Personal/mcook/ics209-plus-fired/data/tabular/raw/famweb/sit209_2023/famwebTable_4_SIT209_HISTORY_DISPATCH_OFFICES.csv to /Users/max/Library/CloudStorage/OneDrive-Personal/mcook/ics209-plus-fired/data/tabular/raw/famweb/sit209_2023/4_SIT209_HISTORY_DISPATCH_OFFICES.csv\n",
      "Renamed: /Users/max/Library/CloudStorage/OneDrive-Personal/mcook/ics209-plus-fired/data/tabular/raw/famweb/sit209_2023/famwebTable_27_SIT209_HISTORY_INCIDENT_209_RES_UTILIZATIONS.csv to /Users/max/Library/CloudStorage/OneDrive-Personal/mcook/ics209-plus-fired/data/tabular/raw/famweb/sit209_2023/27_SIT209_HISTORY_INCIDENT_209_RES_UTILIZATIONS.csv\n",
      "Renamed: /Users/max/Library/CloudStorage/OneDrive-Personal/mcook/ics209-plus-fired/data/tabular/raw/famweb/sit209_2023/famwebTable_24_SIT209_HISTORY_INCIDENT_209_AFFECTED_STRUCTS.csv to /Users/max/Library/CloudStorage/OneDrive-Personal/mcook/ics209-plus-fired/data/tabular/raw/famweb/sit209_2023/24_SIT209_HISTORY_INCIDENT_209_AFFECTED_STRUCTS.csv\n",
      "Renamed: /Users/max/Library/CloudStorage/OneDrive-Personal/mcook/ics209-plus-fired/data/tabular/raw/famweb/sit209_2023/famwebTable_2_COMMONDATA_HISTORY_NWCG_UNITS.csv to /Users/max/Library/CloudStorage/OneDrive-Personal/mcook/ics209-plus-fired/data/tabular/raw/famweb/sit209_2023/2_COMMONDATA_HISTORY_NWCG_UNITS.csv\n",
      "Renamed: /Users/max/Library/CloudStorage/OneDrive-Personal/mcook/ics209-plus-fired/data/tabular/raw/famweb/sit209_2023/famwebTable_11_SIT209_HISTORY_PLANNED_IGNITION_REPORTS.csv to /Users/max/Library/CloudStorage/OneDrive-Personal/mcook/ics209-plus-fired/data/tabular/raw/famweb/sit209_2023/11_SIT209_HISTORY_PLANNED_IGNITION_REPORTS.csv\n",
      "Renamed: /Users/max/Library/CloudStorage/OneDrive-Personal/mcook/ics209-plus-fired/data/tabular/raw/famweb/sit209_2023/famwebTable_30_SIT209_HISTORY_INCIDENT_COMPLEX_ASSOCS.csv to /Users/max/Library/CloudStorage/OneDrive-Personal/mcook/ics209-plus-fired/data/tabular/raw/famweb/sit209_2023/30_SIT209_HISTORY_INCIDENT_COMPLEX_ASSOCS.csv\n",
      "Renamed: /Users/max/Library/CloudStorage/OneDrive-Personal/mcook/ics209-plus-fired/data/tabular/raw/famweb/sit209_2023/famwebTable_3_SIT209_HISTORY_GEOGRAPHIC_AREAS.csv to /Users/max/Library/CloudStorage/OneDrive-Personal/mcook/ics209-plus-fired/data/tabular/raw/famweb/sit209_2023/3_SIT209_HISTORY_GEOGRAPHIC_AREAS.csv\n"
     ]
    }
   ],
   "source": [
    "def rename_files(file_list):\n",
    "    for file_path in file_list:\n",
    "        dir_name, base_name = os.path.split(file_path)\n",
    "        new_base_name = base_name.replace(\"famwebTable_\", \"\")\n",
    "        new_file_path = os.path.join(dir_name, new_base_name)\n",
    "\n",
    "        # Rename the file\n",
    "        os.rename(file_path, new_file_path)\n",
    "        print(f'Renamed: {file_path} to {new_file_path}')\n",
    "        \n",
    "rename_files(csvs)"
   ]
  },
  {
   "cell_type": "code",
   "execution_count": 15,
   "id": "64940ff1-d520-497c-9772-5754277d37b0",
   "metadata": {},
   "outputs": [
    {
     "name": "stdout",
     "output_type": "stream",
     "text": [
      "Successfully read: 22_SIT209_HISTORY_DISPATCH_OFFICE_PROFILES.csv with encoding utf-8\n",
      "Converted and saved: 22_SIT209_HISTORY_DISPATCH_OFFICE_PROFILES.csv to UTF-8\n",
      "Successfully read: 4_SIT209_HISTORY_DISPATCH_OFFICES.csv with encoding utf-8\n",
      "Converted and saved: 4_SIT209_HISTORY_DISPATCH_OFFICES.csv to UTF-8\n",
      "Successfully read: 3_SIT209_HISTORY_GEOGRAPHIC_AREAS.csv with encoding utf-8\n",
      "Converted and saved: 3_SIT209_HISTORY_GEOGRAPHIC_AREAS.csv to UTF-8\n",
      "Successfully read: 27_SIT209_HISTORY_INCIDENT_209_RES_UTILIZATIONS.csv with encoding utf-8\n",
      "Converted and saved: 27_SIT209_HISTORY_INCIDENT_209_RES_UTILIZATIONS.csv to UTF-8\n",
      "Successfully read: 8_SIT209_HISTORY_SIT209_LOOKUP_CODES.csv with encoding utf-8\n",
      "Converted and saved: 8_SIT209_HISTORY_SIT209_LOOKUP_CODES.csv to UTF-8\n",
      "Successfully read: 24_SIT209_HISTORY_INCIDENT_209_AFFECTED_STRUCTS.csv with encoding utf-8\n",
      "Converted and saved: 24_SIT209_HISTORY_INCIDENT_209_AFFECTED_STRUCTS.csv to UTF-8\n",
      "Successfully read: 1_COMMONDATA_HISTORY_NWCG_AGENCIES.csv with encoding utf-8\n",
      "Converted and saved: 1_COMMONDATA_HISTORY_NWCG_AGENCIES.csv to UTF-8\n",
      "Successfully read: 10_SIT209_HISTORY_SIT209_FIRE_STATS_CATEGORIES.csv with encoding utf-8\n",
      "Converted and saved: 10_SIT209_HISTORY_SIT209_FIRE_STATS_CATEGORIES.csv to UTF-8\n",
      "Successfully read: 16_SIT209_HISTORY_SPECIAL_INTEREST_AREAS.csv with encoding utf-8\n",
      "Converted and saved: 16_SIT209_HISTORY_SPECIAL_INTEREST_AREAS.csv to UTF-8\n",
      "Successfully read: 26_SIT209_HISTORY_INCIDENT_209_LIFE_SAFETY_MGMTS.csv with encoding utf-8\n",
      "Converted and saved: 26_SIT209_HISTORY_INCIDENT_209_LIFE_SAFETY_MGMTS.csv to UTF-8\n",
      "Successfully read: 20_SIT209_HISTORY_SIT209_LOOKUP_CODE_ASSOCS.csv with encoding utf-8\n",
      "Converted and saved: 20_SIT209_HISTORY_SIT209_LOOKUP_CODE_ASSOCS.csv to UTF-8\n",
      "Successfully read: 21_SIT209_HISTORY_UOM_CONVERSIONS.csv with encoding utf-8\n",
      "Converted and saved: 21_SIT209_HISTORY_UOM_CONVERSIONS.csv to UTF-8\n",
      "Successfully read: 29_SIT209_HISTORY_INC_209_REP_OWNSHP_OVERLAYS.csv with encoding utf-8\n",
      "Converted and saved: 29_SIT209_HISTORY_INC_209_REP_OWNSHP_OVERLAYS.csv to UTF-8\n",
      "Failed to read: 2_COMMONDATA_HISTORY_NWCG_UNITS.csv with encoding utf-8, error: 'utf-8' codec can't decode byte 0xbf in position 37: invalid start byte\n",
      "Successfully read: 2_COMMONDATA_HISTORY_NWCG_UNITS.csv with encoding ISO-8859-1\n",
      "Converted and saved: 2_COMMONDATA_HISTORY_NWCG_UNITS.csv to UTF-8\n",
      "Successfully read: 12_SIT209_HISTORY_IMSR_NFM_INCIDENTS.csv with encoding utf-8\n",
      "Converted and saved: 12_SIT209_HISTORY_IMSR_NFM_INCIDENTS.csv to UTF-8\n",
      "Successfully read: 30_SIT209_HISTORY_INCIDENT_COMPLEX_ASSOCS.csv with encoding utf-8\n",
      "Converted and saved: 30_SIT209_HISTORY_INCIDENT_COMPLEX_ASSOCS.csv to UTF-8\n",
      "Successfully read: 7_SIT209_HISTORY_OFFICE_VALIDATIONS.csv with encoding utf-8\n",
      "Converted and saved: 7_SIT209_HISTORY_OFFICE_VALIDATIONS.csv to UTF-8\n",
      "Failed to read: 19_SIT209_HISTORY_INCIDENTS.csv with encoding utf-8, error: 'utf-8' codec can't decode byte 0xbf in position 11: invalid start byte\n",
      "Successfully read: 19_SIT209_HISTORY_INCIDENTS.csv with encoding ISO-8859-1\n"
     ]
    },
    {
     "name": "stderr",
     "output_type": "stream",
     "text": [
      "/var/folders/lm/1zg27k9x385csjv9gkj8jqm80000gp/T/ipykernel_3910/1897440850.py:7: DtypeWarning: Columns (20,24,25) have mixed types. Specify dtype option on import or set low_memory=False.\n",
      "  df = pd.read_csv(file_path, encoding=encoding)\n"
     ]
    },
    {
     "name": "stdout",
     "output_type": "stream",
     "text": [
      "Converted and saved: 19_SIT209_HISTORY_INCIDENTS.csv to UTF-8\n",
      "Successfully read: 17_SIT209_HISTORY_INCIDENT_209_REPORTS_AUTOSIT.csv with encoding utf-8\n",
      "Converted and saved: 17_SIT209_HISTORY_INCIDENT_209_REPORTS_AUTOSIT.csv to UTF-8\n",
      "Failed to read: 11_SIT209_HISTORY_PLANNED_IGNITION_REPORTS.csv with encoding utf-8, error: 'utf-8' codec can't decode byte 0xbf in position 180: invalid start byte\n",
      "Successfully read: 11_SIT209_HISTORY_PLANNED_IGNITION_REPORTS.csv with encoding ISO-8859-1\n",
      "Converted and saved: 11_SIT209_HISTORY_PLANNED_IGNITION_REPORTS.csv to UTF-8\n",
      "Successfully read: 25_SIT209_HISTORY_INCIDENT_209_CSLTY_ILLNESSES.csv with encoding utf-8\n",
      "Converted and saved: 25_SIT209_HISTORY_INCIDENT_209_CSLTY_ILLNESSES.csv to UTF-8\n",
      "Failed to read: 18_SIT209_HISTORY_INCIDENT_209_REPORTS.csv with encoding utf-8, error: 'utf-8' codec can't decode byte 0xbf in position 10: invalid start byte\n"
     ]
    },
    {
     "name": "stderr",
     "output_type": "stream",
     "text": [
      "/var/folders/lm/1zg27k9x385csjv9gkj8jqm80000gp/T/ipykernel_3910/1897440850.py:7: DtypeWarning: Columns (32,84) have mixed types. Specify dtype option on import or set low_memory=False.\n",
      "  df = pd.read_csv(file_path, encoding=encoding)\n"
     ]
    },
    {
     "name": "stdout",
     "output_type": "stream",
     "text": [
      "Successfully read: 18_SIT209_HISTORY_INCIDENT_209_REPORTS.csv with encoding ISO-8859-1\n",
      "Converted and saved: 18_SIT209_HISTORY_INCIDENT_209_REPORTS.csv to UTF-8\n",
      "Successfully read: 13_SIT209_HISTORY_SIT_FIRE_STAT_DAILY_SUMMARIES.csv with encoding utf-8\n",
      "Converted and saved: 13_SIT209_HISTORY_SIT_FIRE_STAT_DAILY_SUMMARIES.csv to UTF-8\n",
      "Failed to read: 5_SIT209_HISTORY_DAILY_DISPATCHES.csv with encoding utf-8, error: 'utf-8' codec can't decode byte 0xbf in position 85: invalid start byte\n",
      "Successfully read: 5_SIT209_HISTORY_DAILY_DISPATCHES.csv with encoding ISO-8859-1\n",
      "Converted and saved: 5_SIT209_HISTORY_DAILY_DISPATCHES.csv to UTF-8\n",
      "Successfully read: 28_SIT209_HISTORY_INCIDENT_209_STRATEGIES.csv with encoding utf-8\n",
      "Converted and saved: 28_SIT209_HISTORY_INCIDENT_209_STRATEGIES.csv to UTF-8\n",
      "Successfully read: 14_SIT209_HISTORY_SIT_FIRE_STAT_YTD_SUMMARIES.csv with encoding utf-8\n",
      "Converted and saved: 14_SIT209_HISTORY_SIT_FIRE_STAT_YTD_SUMMARIES.csv to UTF-8\n",
      "Successfully read: 15_SIT209_HISTORY_EXTERNAL_USERS.csv with encoding utf-8\n",
      "Converted and saved: 15_SIT209_HISTORY_EXTERNAL_USERS.csv to UTF-8\n",
      "Successfully read: 9_SIT209_HISTORY_SIT209_FIRE_STATS.csv with encoding utf-8\n",
      "Converted and saved: 9_SIT209_HISTORY_SIT209_FIRE_STATS.csv to UTF-8\n",
      "Successfully read: 6_SIT209_HISTORY_DISPATCH_OFFICE_NWCG_UNITS.csv with encoding utf-8\n",
      "Converted and saved: 6_SIT209_HISTORY_DISPATCH_OFFICE_NWCG_UNITS.csv to UTF-8\n"
     ]
    }
   ],
   "source": [
    "csvs = list_files(os.path.join(maindir,'data/tabular/raw/famweb/sit209_2023/'), '*.csv')\n",
    "\n",
    "def try_read_file(file_path):\n",
    "    encodings = ['utf-8', 'ISO-8859-1', 'latin1']\n",
    "    for encoding in encodings:\n",
    "        try:\n",
    "            df = pd.read_csv(file_path, encoding=encoding)\n",
    "            print(f'Successfully read: {os.path.basename(file_path)} with encoding {encoding}')\n",
    "            return df\n",
    "        except Exception as e:\n",
    "            print(f'Failed to read: {os.path.basename(file_path)} with encoding {encoding}, error: {e}')\n",
    "\n",
    "for file_path in csvs:\n",
    "    # Try to read the file to ensure it is readable\n",
    "    df = try_read_file(file_path)\n",
    "    if df is not None:\n",
    "        # Save the file back in UTF-8 encoding\n",
    "        df.to_csv(file_path, index=False, encoding='utf-8')\n",
    "        print(f'Converted and saved: {os.path.basename(file_path)} to UTF-8')\n",
    "    else:\n",
    "        print(f'Failed to read and convert the file: {os.path.basename(file_path)}')"
   ]
  }
 ],
 "metadata": {
  "kernelspec": {
   "display_name": "geoenv",
   "language": "python",
   "name": "geoenv"
  },
  "language_info": {
   "codemirror_mode": {
    "name": "ipython",
    "version": 3
   },
   "file_extension": ".py",
   "mimetype": "text/x-python",
   "name": "python",
   "nbconvert_exporter": "python",
   "pygments_lexer": "ipython3",
   "version": "3.10.6"
  }
 },
 "nbformat": 4,
 "nbformat_minor": 5
}
