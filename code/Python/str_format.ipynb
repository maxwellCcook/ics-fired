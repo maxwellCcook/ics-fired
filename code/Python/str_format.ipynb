{
 "cells": [
  {
   "cell_type": "code",
   "execution_count": 1,
   "id": "auburn-abortion",
   "metadata": {},
   "outputs": [
    {
     "ename": "ModuleNotFoundError",
     "evalue": "No module named 'ics209util'",
     "output_type": "error",
     "traceback": [
      "\u001b[1;31m---------------------------------------------------------------------------\u001b[0m",
      "\u001b[1;31mModuleNotFoundError\u001b[0m                       Traceback (most recent call last)",
      "\u001b[1;32m<ipython-input-1-c9919d24d8a4>\u001b[0m in \u001b[0;36m<module>\u001b[1;34m\u001b[0m\n\u001b[0;32m      1\u001b[0m \u001b[1;32mimport\u001b[0m \u001b[0mpandas\u001b[0m \u001b[1;32mas\u001b[0m \u001b[0mpd\u001b[0m\u001b[1;33m\u001b[0m\u001b[1;33m\u001b[0m\u001b[0m\n\u001b[0;32m      2\u001b[0m \u001b[1;32mimport\u001b[0m \u001b[0mnumpy\u001b[0m \u001b[1;32mas\u001b[0m \u001b[0mnp\u001b[0m\u001b[1;33m\u001b[0m\u001b[1;33m\u001b[0m\u001b[0m\n\u001b[1;32m----> 3\u001b[1;33m \u001b[1;32mimport\u001b[0m \u001b[0mics209util\u001b[0m\u001b[1;33m\u001b[0m\u001b[1;33m\u001b[0m\u001b[0m\n\u001b[0m\u001b[0;32m      4\u001b[0m \u001b[1;33m\u001b[0m\u001b[0m\n\u001b[0;32m      5\u001b[0m \u001b[1;32mdef\u001b[0m \u001b[0m_get_str_ext\u001b[0m\u001b[1;33m(\u001b[0m\u001b[0mlu_tbl\u001b[0m\u001b[1;33m)\u001b[0m\u001b[1;33m:\u001b[0m\u001b[1;33m\u001b[0m\u001b[1;33m\u001b[0m\u001b[0m\n",
      "\u001b[1;31mModuleNotFoundError\u001b[0m: No module named 'ics209util'"
     ]
    }
   ],
   "source": [
    "import pandas as pd\n",
    "import numpy as np\n",
    "\n",
    "maindir = \"C:/Users/mccoo/OneDrive/mcook/ics209/data/famweb/Archive/y2020/\"\n",
    "def _get_str_ext(lu_tbl):\n",
    "    # read in structures table\n",
    "    dfc_str = pd.read_csv(os.path.join(maindir, 'SIT209_HISTORY_INCIDENT_209_AFFECTED_STRUCTS.csv')\n",
    "    dfc_str = dfc_str.loc[:, ~dfc_str.columns.str.contains('^Unnamed')]\n",
    "    \n",
    "    # get structure type from the lookup table\n",
    "    sst_rows = lu_tbl[lu_tbl.CODE_TYPE == 'STRUCTURE_SUMMARY_TYPE']\n",
    "    sst_lu = sst_rows[['LUCODES_IDENTIFIER','ABBREVIATION']]\n",
    "    sst_lu.columns = ['SST_IDENTIFIER','SST']\n",
    "    sst_lu.shape\n",
    "\n",
    "    dfc_str = dfc_str.merge(sst_lu, how='left')\n",
    "    # Pivot the table\n",
    "    dfc_str_piv = dfc_str.pivot_table(index=['INC209R_IDENTIFIER'], columns=['SST'],\n",
    "                                             values=['QTY_DESTROYED','QTY_THREATENED_72','QTY_DAMAGED'],aggfunc=np.mean)\n",
    "    # Clean up the column names\n",
    "    dfc_str_piv.columns = [\"_\".join((i,j)) for i,j in dfc_str_piv.columns]\n",
    "    dfc_str_piv = dfc_str_piv.fillna(0)\n",
    "    dfc_str_piv['STR_DAMAGED'] = dfc_str_piv['QTY_DAMAGED_MC/R'] + dfc_str_piv.QTY_DAMAGED_MR + dfc_str_piv.QTY_DAMAGED_NRC +\\\n",
    "        dfc_str_piv.QTY_DESTROYED_OTH + dfc_str_piv.QTY_DESTROYED_SR\n",
    "    dfc_str_piv['STR_DESTROYED'] = dfc_str_piv['QTY_DESTROYED_MC/R'] + dfc_str_piv.QTY_DESTROYED_MR +\\\n",
    "        dfc_str_piv.QTY_DESTROYED_NRC + dfc_str_piv.QTY_DESTROYED_OTH + dfc_str_piv.QTY_DESTROYED_SR\n",
    "    dfc_str_piv['STR_THREATENED'] = dfc_str_piv['QTY_THREATENED_72_MC/R'] + dfc_str_piv.QTY_THREATENED_72_MR +\\\n",
    "        dfc_str_piv.QTY_THREATENED_72_NRC + dfc_str_piv.QTY_THREATENED_72_OTH + dfc_str_piv.QTY_THREATENED_72_SR\n",
    "    dfc_str_piv['STR_DAMAGED_RES'] = dfc_str_piv['QTY_DAMAGED_MC/R'] + dfc_str_piv.QTY_DAMAGED_MR + dfc_str_piv.QTY_DAMAGED_SR\n",
    "    dfc_str_piv['STR_DESTROYED_RES'] = dfc_str_piv['QTY_DESTROYED_MC/R'] + dfc_str_piv.QTY_DESTROYED_MR +\\\n",
    "        dfc_str_piv.QTY_DESTROYED_SR\n",
    "    dfc_str_piv['STR_THREATENED_RES'] = dfc_str_piv['QTY_THREATENED_72_MC/R'] + dfc_str_piv.QTY_THREATENED_72_MR +\\\n",
    "        dfc_str_piv.QTY_THREATENED_72_SR\n",
    "        \n",
    "    dfc_str_piv.reset_index(inplace=True)\n",
    "    dfc_str_merge = dfc_str_piv[['INC209R_IDENTIFIER','STR_DAMAGED','STR_DESTROYED','STR_THREATENED',\n",
    "                                'STR_DAMAGED_RES','STR_DESTROYED_RES','STR_THREATENED_RES','QTY_DAMAGED_NRC',\\\n",
    "                                'QTY_DESTROYED_NRC','QTY_THREATENED_72_NRC']]\n",
    "    dfc_str_merge.columns = dfc_str_merge.columns.str.replace('QTY_DAMAGED_NRC','STR_DAMAGED_COMM')\n",
    "    dfc_str_merge.columns = dfc_str_merge.columns.str.replace('QTY_DESTROYED_NRC','STR_DESTROYED_COMM')\n",
    "    dfc_str_merge.columns = dfc_str_merge.columns.str.replace('QTY_THREATENED_72_NRC','STR_THREATENED_COMM')\n",
    "    return dfc_str_merge"
   ]
  }
 ],
 "metadata": {
  "kernelspec": {
   "display_name": "mcenv",
   "language": "python",
   "name": "mcenv"
  },
  "language_info": {
   "codemirror_mode": {
    "name": "ipython",
    "version": 3
   },
   "file_extension": ".py",
   "mimetype": "text/x-python",
   "name": "python",
   "nbconvert_exporter": "python",
   "pygments_lexer": "ipython3",
   "version": "3.9.1"
  }
 },
 "nbformat": 4,
 "nbformat_minor": 5
}
