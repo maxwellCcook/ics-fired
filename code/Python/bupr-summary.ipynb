{
 "cells": [
  {
   "cell_type": "code",
   "execution_count": 2,
   "id": "fitted-fireplace",
   "metadata": {},
   "outputs": [
    {
     "name": "stdout",
     "output_type": "stream",
     "text": [
      "C:/Users/mccoo/OneDrive/mcook/data\\hisdac_us\\BUPR\n",
      "['C:/Users/mccoo/OneDrive/mcook/data\\\\hisdac_us\\\\BUPR\\\\BUPR_2000.tif', 'C:/Users/mccoo/OneDrive/mcook/data\\\\hisdac_us\\\\BUPR\\\\BUPR_2005.tif', 'C:/Users/mccoo/OneDrive/mcook/data\\\\hisdac_us\\\\BUPR\\\\BUPR_2010.tif', 'C:/Users/mccoo/OneDrive/mcook/data\\\\hisdac_us\\\\BUPR\\\\BUPR_2015.tif']\n"
     ]
    },
    {
     "name": "stderr",
     "output_type": "stream",
     "text": [
      "C:\\Users\\mccoo\\miniconda3\\envs\\mcenv\\lib\\site-packages\\geopandas\\geodataframe.py:422: RuntimeWarning: Sequential read of iterator was interrupted. Resetting iterator. This can negatively impact the performance.\n",
      "  for feature in features_lst:\n"
     ]
    }
   ],
   "source": [
    "import os\n",
    "import glob\n",
    "import pandas as pd\n",
    "import geopandas as gpd\n",
    "import rasterstats as rs\n",
    "\n",
    "###Directories\n",
    "maindir = \"C:/Users/mccoo/OneDrive/mcook/\"\n",
    "buprDir = os.path.join(maindir, 'data', 'hisdac_us', 'BUPR')\n",
    "print(buprDir)\n",
    "\n",
    "###List out the BUPR raster paths\n",
    "rasters = glob.glob(buprDir+\"/*.tif\", recursive=True)\n",
    "print(rasters)\n",
    "\n",
    "###Read in the joined event shapefile (ICS-FIRED)\n",
    "evt_file = os.path.join(maindir, 'ics209', 'data', 'ics-fired', 'ics-fired_to2020.gpkg')\n",
    "evt = gpd.read_file(evt_file, driver=\"GPKG\")  "
   ]
  },
  {
   "cell_type": "code",
   "execution_count": 8,
   "id": "interpreted-insertion",
   "metadata": {},
   "outputs": [],
   "source": [
    "# ##Create buffer distance list\n",
    "# buffers = list([0, 250, 1000, 4000])\n",
    "# buf_out = []\n",
    "# for i in range(0, len(buffers)):\n",
    "    \n",
    "#     if buffers[i]==0:\n",
    "#         print(\"Event-level (no buffer) ...\")\n",
    "#         evt=evt\n",
    "#         buf_out.append(evt)\n",
    "#     else:\n",
    "#         print(\"Event buffer at distance: \"+str(buffers[i])+\" meters\")\n",
    "#         evt['geometry'] = evt.geometry.buffer(int(buffers[i]))\n",
    "#         buf_out.append(evt)\n",
    "\n",
    "# print(len(buf_out))\n",
    "\n",
    "# evt['geometry'] = evt.geometry.buffer(250)"
   ]
  },
  {
   "cell_type": "code",
   "execution_count": 9,
   "id": "acknowledged-subject",
   "metadata": {},
   "outputs": [],
   "source": [
    "###Define zonal statistics function\n",
    "def get_zonal_stats(vector, raster, stats):\n",
    "    # Run zonal statistics, store result in geopandas dataframe\n",
    "    result = rs.zonal_stats(vector, raster, stats=stats, geojson_out=True)\n",
    "    return gpd.GeoDataFrame.from_features(result) "
   ]
  },
  {
   "cell_type": "code",
   "execution_count": 3,
   "id": "clear-closer",
   "metadata": {},
   "outputs": [
    {
     "name": "stdout",
     "output_type": "stream",
     "text": [
      "[2000, 2005, 2010, 2015]\n",
      "min burn year: 2000\n",
      "max burn year: 2020\n"
     ]
    }
   ],
   "source": [
    "###Get the years and filter the geodataframe\n",
    "bupr_years = [int(os.path.basename(r)[5:9]) for r in rasters]\n",
    "print(bupr_years)\n",
    "\n",
    "evt_years = list(evt['ig_year'].unique())\n",
    "for i in range(0, len(evt_years)):\n",
    "    evt_years[i] = int(evt_years[i])\n",
    "print(\"min burn year: \"+str(min(evt_years)))\n",
    "print(\"max burn year: \"+str(max(evt_years)))"
   ]
  },
  {
   "cell_type": "code",
   "execution_count": null,
   "id": "rotary-coordinate",
   "metadata": {},
   "outputs": [],
   "source": []
  },
  {
   "cell_type": "code",
   "execution_count": 11,
   "id": "natural-lightning",
   "metadata": {},
   "outputs": [
    {
     "name": "stdout",
     "output_type": "stream",
     "text": [
      "[2000.0, 2001.0, 2002.0, 2003.0, 2004.0]\n",
      "[2005.0, 2006.0, 2007.0, 2008.0, 2009.0]\n",
      "[2010.0, 2011.0, 2012.0, 2013.0, 2014.0]\n",
      "[2015.0, 2016.0, 2017.0, 2018.0, 2019.0, 2020.0, 2021.0]\n",
      "4\n"
     ]
    }
   ],
   "source": [
    "###Now, perform zonal statistics for each semi-decade\n",
    "bupr_sums = [] #Empty list for results    \n",
    "for yr in bupr_years:\n",
    "\n",
    "    bupr = os.path.join(buprDir, 'BUPR_'+str(yr)+'.tif')\n",
    "\n",
    "    if yr == 2015:\n",
    "\n",
    "        polys = evt[(evt['ig_year'] >= yr) & (evt['ig_year'] <= max(evt_years))]\n",
    "        print(list(polys['ig_year'].unique()))\n",
    "\n",
    "        zs = get_zonal_stats(polys, bupr, stats='max median')\n",
    "        \n",
    "        zs = zs.rename(columns={'max': 'bupr_max', 'median': 'bupr_med'})\n",
    "\n",
    "        bupr_sums.append(zs)\n",
    "\n",
    "    else:\n",
    "\n",
    "        polys = evt[(evt['ig_year'] >= yr) & (evt['ig_year'] < yr+5)]\n",
    "        print(list(polys['ig_year'].unique()))\n",
    "\n",
    "        zs = get_zonal_stats(polys, bupr, stats='max median')\n",
    "\n",
    "        zs = zs.rename(columns={'max': 'bupr_max', 'median': 'bupr_med'})\n",
    "\n",
    "        bupr_sums.append(zs)\n",
    "\n",
    "print(len(bupr_sums))"
   ]
  },
  {
   "cell_type": "code",
   "execution_count": 12,
   "id": "dressed-disabled",
   "metadata": {},
   "outputs": [
    {
     "name": "stdout",
     "output_type": "stream",
     "text": [
      "Merging data frames ...\n",
      "<class 'geopandas.geodataframe.GeoDataFrame'>\n",
      "Writing output file ...\n"
     ]
    }
   ],
   "source": [
    "###Merge results into one dataframe\n",
    "# Combine the data frames\n",
    "print(\"Merging data frames ...\")\n",
    "\n",
    "gdf = pd.concat(bupr_sums)\n",
    "print(type(gdf))\n",
    "\n",
    "# Write to file\n",
    "print(\"Writing output file ...\")\n",
    "out_file = os.path.join(maindir, 'FIRED', 'data', 'update0621', 'fired_to2021091_events_albers_conus_bupr_MaxMed.shp')\n",
    "gdf.to_file(out_file)"
   ]
  }
 ],
 "metadata": {
  "kernelspec": {
   "display_name": "mcenv",
   "language": "python",
   "name": "mcenv"
  },
  "language_info": {
   "codemirror_mode": {
    "name": "ipython",
    "version": 3
   },
   "file_extension": ".py",
   "mimetype": "text/x-python",
   "name": "python",
   "nbconvert_exporter": "python",
   "pygments_lexer": "ipython3",
   "version": "3.9.1"
  }
 },
 "nbformat": 4,
 "nbformat_minor": 5
}
